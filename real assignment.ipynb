{
 "cells": [
  {
   "cell_type": "code",
   "execution_count": 1,
   "id": "7a941e61",
   "metadata": {},
   "outputs": [
    {
     "name": "stdout",
     "output_type": "stream",
     "text": [
      "Twinkle , twinkle , little star , \n",
      "      How i wonder what you are ! \n",
      "               Up above the world ,\n",
      "               Like a diamond in the sky.twinkle ,\n",
      "Twinkle ,little star ,\n",
      "      How i wonder what you are \n"
     ]
    }
   ],
   "source": [
    "#1\n",
    "from wsgiref.simple_server import sys_version\n",
    "\n",
    "\n",
    "x = \"Twinkle , twinkle , little star , \\n      How i wonder what you are ! \\n               Up above the world ,\\n               Like a diamond in the sky.twinkle ,\\nTwinkle ,little star ,\\n      How i wonder what you are \"\n",
    "print(x)"
   ]
  },
  {
   "cell_type": "code",
   "execution_count": 2,
   "id": "119ec1d2",
   "metadata": {},
   "outputs": [
    {
     "name": "stdout",
     "output_type": "stream",
     "text": [
      "CPython/3.9.7\n"
     ]
    }
   ],
   "source": [
    "#2\n",
    "print(sys_version)"
   ]
  },
  {
   "cell_type": "code",
   "execution_count": 3,
   "id": "987ea5fa",
   "metadata": {},
   "outputs": [
    {
     "name": "stdout",
     "output_type": "stream",
     "text": [
      "Current date and time: \n",
      " 2022-08-25 13:12:00.107857\n"
     ]
    }
   ],
   "source": [
    "#3\n",
    "import datetime\n",
    "\n",
    "t = datetime.datetime.now()\n",
    "v = \"Current date and time:\" \n",
    "print(v,\"\\n\",t)"
   ]
  },
  {
   "cell_type": "code",
   "execution_count": 5,
   "id": "319a5757",
   "metadata": {},
   "outputs": [
    {
     "name": "stdout",
     "output_type": "stream",
     "text": [
      "what is the radius of your circle 78\n",
      "area of the circle is :  19113.45\n"
     ]
    }
   ],
   "source": [
    "#4\n",
    "import math\n",
    "radius = float(input(\"what is the radius of your circle \"))\n",
    "area_of_the_circle = math.pi*radius*radius\n",
    "print(\"area of the circle is : \" ,round(area_of_the_circle, 3))\n"
   ]
  },
  {
   "cell_type": "code",
   "execution_count": 55,
   "id": "d6f776ef",
   "metadata": {},
   "outputs": [
    {
     "name": "stdout",
     "output_type": "stream",
     "text": [
      "What is your first name: YTREWQ\n",
      "What is your last name: FDSA\n",
      "ASDF QWERTY\n"
     ]
    }
   ],
   "source": [
    "#5\n",
    "Firstname = input(\"What is your first name: \")\n",
    "Lastname = input(\"What is your last name: \")\n",
    "print(Lastname [::-1] , Firstname[::-1])"
   ]
  },
  {
   "cell_type": "code",
   "execution_count": 56,
   "id": "fdf9cd9b",
   "metadata": {},
   "outputs": [
    {
     "name": "stdout",
     "output_type": "stream",
     "text": [
      "Red Black\n"
     ]
    }
   ],
   "source": [
    "#7\n",
    "color_list = [\"Red\",\"Green\",\"White\" ,\"Black\"] \n",
    "print(color_list[0] , color_list[3])\n",
    "\n",
    "\n"
   ]
  },
  {
   "cell_type": "code",
   "execution_count": 4,
   "id": "d0ba499c",
   "metadata": {},
   "outputs": [
    {
     "data": {
      "text/plain": [
       "'color_list = [\"Red\",\"Green\",\"White\" ,\"Black\"] \\nr = color_list[0]\\nb = color_list[3]\\nprint(r,b)'"
      ]
     },
     "execution_count": 4,
     "metadata": {},
     "output_type": "execute_result"
    }
   ],
   "source": [
    "'''color_list = [\"Red\",\"Green\",\"White\" ,\"Black\"] \n",
    "r = color_list[0]\n",
    "b = color_list[3]\n",
    "print(r,b)'''\n"
   ]
  },
  {
   "cell_type": "code",
   "execution_count": 6,
   "id": "031d1934",
   "metadata": {},
   "outputs": [
    {
     "name": "stdout",
     "output_type": "stream",
     "text": [
      "input your comma seprated numbers  12\n",
      "['1', '2']\n"
     ]
    }
   ],
   "source": [
    "#6\n",
    "t = input(\"input your comma seprated numbers  \")\n",
    "print(list(t))"
   ]
  },
  {
   "cell_type": "code",
   "execution_count": 13,
   "id": "ea07031f",
   "metadata": {},
   "outputs": [
    {
     "name": "stdout",
     "output_type": "stream",
     "text": [
      "2014-11-12\n"
     ]
    }
   ],
   "source": [
    "#8\n",
    "from datetime import date\n",
    "\n",
    "exam_st_date = (11, 12, 2014) \n",
    "new_date = date(2014, 11, 12,)\n",
    "print(new_date)"
   ]
  },
  {
   "cell_type": "code",
   "execution_count": 14,
   "id": "d3f367e6",
   "metadata": {},
   "outputs": [
    {
     "name": "stdout",
     "output_type": "stream",
     "text": [
      "What is an integer78\n",
      "480714\n"
     ]
    }
   ],
   "source": [
    "#9\n",
    "integer = int(input (\"What is an integer\"))\n",
    "print(integer+integer*integer+integer*integer*integer)"
   ]
  },
  {
   "cell_type": "code",
   "execution_count": null,
   "id": "5b1c8946",
   "metadata": {},
   "outputs": [],
   "source": [
    "#12\n",
    "radius2 = float(input(\"what is the radius of a sphere\"))\n",
    "r = 1*math.pi*radius2*radius2\n",
    "print(r)"
   ]
  },
  {
   "cell_type": "code",
   "execution_count": 17,
   "id": "7fdc19ee",
   "metadata": {},
   "outputs": [
    {
     "name": "stdout",
     "output_type": "stream",
     "text": [
      "Help on built-in function round in module builtins:\n",
      "\n",
      "round(number, ndigits=None)\n",
      "    Round a number to a given precision in decimal digits.\n",
      "    \n",
      "    The return value is an integer if ndigits is omitted or None.  Otherwise\n",
      "    the return value has the same type as the number.  ndigits may be negative.\n",
      "\n"
     ]
    }
   ],
   "source": [
    "help(round) #research latex notation"
   ]
  },
  {
   "cell_type": "code",
   "execution_count": null,
   "id": "07a6b8d3",
   "metadata": {},
   "outputs": [],
   "source": []
  },
  {
   "cell_type": "code",
   "execution_count": 18,
   "id": "b5a4a270",
   "metadata": {},
   "outputs": [
    {
     "name": "stdout",
     "output_type": "stream",
     "text": [
      "what is your number 45\n",
      "28\n",
      "56\n"
     ]
    }
   ],
   "source": [
    "#13\n",
    "cv = int(input (\"what is your number \"))\n",
    "CV = cv-17\n",
    "print(CV)\n",
    "if CV>17:\n",
    "    print(abs(CV) *2)"
   ]
  },
  {
   "cell_type": "code",
   "execution_count": 70,
   "id": "688153f9",
   "metadata": {},
   "outputs": [
    {
     "name": "stdout",
     "output_type": "stream",
     "text": [
      "true but in the 2000 range\n"
     ]
    }
   ],
   "source": [
    "#14\n",
    "x = range(100,1000,1)\n",
    "u = range(100,2000,1)\n",
    "p = 1001\n",
    "if p in x :\n",
    "    print(\"true but in the 1000 range\")\n",
    "elif p in u:\n",
    "    print(\"true but in the 2000 range\")\n",
    "else :   \n",
    "    print(p, \"is not within either range\")"
   ]
  },
  {
   "cell_type": "code",
   "execution_count": 77,
   "id": "b0f749b5",
   "metadata": {},
   "outputs": [
    {
     "name": "stdout",
     "output_type": "stream",
     "text": [
      "Enter your first number  : 1\n",
      "Enter your second number : 1\n",
      "Enter your third number : 1\n",
      "The number is equal so thrice the sum of the number is:  9\n"
     ]
    }
   ],
   "source": [
    "#15\n",
    "firstnumber = int(input(\"Enter your first number  : \"))\n",
    "secondnumber = int(input(\"Enter your second number : \"))\n",
    "thierdnumber = int(input(\"Enter your third number : \"))\n",
    "\n",
    "sumofthenumber = firstnumber+secondnumber+thierdnumber\n",
    "real = 3*sumofthenumber\n",
    "if firstnumber==secondnumber==thierdnumber:\n",
    "    print(\"The number is equal so thrice the sum of the number is: \",3*sumofthenumber)\n",
    "else:\n",
    "    print('the question is somehow')"
   ]
  },
  {
   "cell_type": "code",
   "execution_count": 21,
   "id": "74299f16",
   "metadata": {},
   "outputs": [
    {
     "name": "stdout",
     "output_type": "stream",
     "text": [
      "yes it is present\n"
     ]
    }
   ],
   "source": [
    "#16\n",
    "myvalues = [\"temilade\",\"ayomide\",\"teee\"]\n",
    "if \"temilade\" in myvalues:\n",
    "   print(\"yes it is present\")"
   ]
  },
  {
   "cell_type": "code",
   "execution_count": 81,
   "id": "cd080c0f",
   "metadata": {},
   "outputs": [
    {
     "name": "stdout",
     "output_type": "stream",
     "text": [
      "Even numbers :  [2, 4, 6, 8, 10, 12, 14, 16, 18, 20, 22, 24, 26, 28, 30, 32, 34, 36, 38, 40, 42, 44, 46, 48, 50, 52, 54, 56, 58, 60, 62, 64, 66, 68, 70, 72, 74, 76, 78, 80, 82, 84, 86, 88, 90, 92, 94, 96, 98, 100, 102, 104, 106, 108, 110, 112, 114, 116, 118, 120, 122, 124, 126, 128, 130, 132, 134, 136, 138, 140, 142, 144, 146, 148, 150, 152, 154, 156, 158, 160, 162, 164, 166, 168, 170, 172, 174, 176, 178, 180, 182, 184, 186, 188, 190, 192, 194, 196, 198, 200, 202, 204, 206, 208, 210, 212, 214, 216, 218, 220, 222, 224, 226, 228, 230, 232, 234, 236]\n"
     ]
    }
   ],
   "source": [
    "#17\n",
    "rnager = range(1,237,1)\n",
    "\n",
    "even_nos = [num for num in rnager if num % 2 == 0]\n",
    "print(\"Even numbers : \", even_nos)"
   ]
  },
  {
   "cell_type": "code",
   "execution_count": 23,
   "id": "0426ca80",
   "metadata": {},
   "outputs": [
    {
     "name": "stdout",
     "output_type": "stream",
     "text": [
      "{'violet', 'red', 'pink', 'cyano'}\n"
     ]
    }
   ],
   "source": [
    "#18\n",
    "colorlist1 = {\"cyano\",\"pink\",\"violet\",\"orange\",\"indigo\",\"blue\",\"red\",}\n",
    "colorlist2 = {\"blue\",\"orange\",\"brown\",\"indigo\",\"mango\"}    \n",
    "color = colorlist1.difference(colorlist2)\n",
    "    \n",
    "print(color)"
   ]
  },
  {
   "cell_type": "code",
   "execution_count": 24,
   "id": "e2b5ae42",
   "metadata": {},
   "outputs": [
    {
     "data": {
      "text/plain": [
       "'Windows'"
      ]
     },
     "execution_count": 24,
     "metadata": {},
     "output_type": "execute_result"
    }
   ],
   "source": [
    "#19\n",
    "import platform\n",
    "platform.system()"
   ]
  },
  {
   "cell_type": "code",
   "execution_count": null,
   "id": "31a43b03",
   "metadata": {},
   "outputs": [],
   "source": [
    "#20\n",
    "def sum_of_list(l):\n",
    "  total = 0\n",
    "  for val in l:\n",
    "    total = total + val\n",
    "  return total\n",
    "\n",
    "my_list = [1,3,5,2,4]\n",
    "print (\"The sum of my_list is\", sum_of_list(my_list))\n"
   ]
  },
  {
   "cell_type": "code",
   "execution_count": null,
   "id": "bab6b240",
   "metadata": {},
   "outputs": [],
   "source": [
    "#21\n",
    "def sum_of_list(l):\n",
    "  total = 1\n",
    "  for val in l:\n",
    "    total = total * val\n",
    "  return total\n",
    "\n",
    "my_list = [1,3,5,2,4]\n",
    "print (\"The sum of my_list is\", sum_of_list(my_list))\n",
    "print(max(my_list))\n",
    "print(min(my_list))"
   ]
  },
  {
   "cell_type": "code",
   "execution_count": 84,
   "id": "f45dffb1",
   "metadata": {},
   "outputs": [
    {
     "name": "stdout",
     "output_type": "stream",
     "text": [
      "5\n"
     ]
    }
   ],
   "source": [
    "#22\n",
    "my_list = [1,3,5,2,4]\n",
    "print(max(my_list))\n"
   ]
  },
  {
   "cell_type": "code",
   "execution_count": 83,
   "id": "7cd038b5",
   "metadata": {},
   "outputs": [
    {
     "name": "stdout",
     "output_type": "stream",
     "text": [
      "1\n"
     ]
    }
   ],
   "source": [
    "#23\n",
    "my_list = [1,3,5,2,4]\n",
    "print(min(my_list))"
   ]
  },
  {
   "cell_type": "code",
   "execution_count": null,
   "id": "262d60c1",
   "metadata": {},
   "outputs": [],
   "source": []
  },
  {
   "cell_type": "code",
   "execution_count": 26,
   "id": "2ad9a993",
   "metadata": {},
   "outputs": [
    {
     "name": "stdout",
     "output_type": "stream",
     "text": [
      "what is your new listtemilade\n",
      "('t',)\n",
      "('d',)\n",
      "('e',)\n",
      "('e',)\n",
      "('i',)\n",
      "('l',)\n",
      "('m',)\n",
      "('t',)\n"
     ]
    }
   ],
   "source": [
    "CHECK#25\n",
    "newlist = list(input(\"what is your new list\"))\n",
    "for x in newlist:\n",
    "    newlist.sort()\n",
    "    print(tuple(x))"
   ]
  },
  {
   "cell_type": "code",
   "execution_count": 91,
   "id": "0bed5369",
   "metadata": {},
   "outputs": [
    {
     "name": "stdout",
     "output_type": "stream",
     "text": [
      "['abc', 34, True, 40, 'male']\n"
     ]
    }
   ],
   "source": [
    "#26\n",
    "anotherlistweremo = [\"abc\", 34, True, 40, \"male\",40]\n",
    "def Remove(anotherlistweremo):\n",
    "    final_list = []\n",
    "    for num in anotherlistweremo:\n",
    "        if num not in final_list:\n",
    "            final_list.append(num)\n",
    "    return final_list\n",
    "\n",
    "print(Remove(anotherlistweremo))\n",
    "\n",
    "\n",
    "\n",
    "\n"
   ]
  },
  {
   "cell_type": "code",
   "execution_count": 31,
   "id": "cf189f75",
   "metadata": {},
   "outputs": [
    {
     "name": "stdout",
     "output_type": "stream",
     "text": [
      "list is not empty\n"
     ]
    }
   ],
   "source": [
    "#27\n",
    "anotherlistweremo = [\"abc\", 34, True, 40, \"male\"] \n",
    "def check_empty(anotherlistweremo):\n",
    "    if len(anotherlistweremo)==0:\n",
    "        print(\"list is empty\")\n",
    "    else:\n",
    "        print(\"list is not empty\")\n",
    "        \n",
    "check_empty(anotherlistweremo)"
   ]
  },
  {
   "cell_type": "code",
   "execution_count": 11,
   "id": "51df7468",
   "metadata": {},
   "outputs": [
    {
     "name": "stdout",
     "output_type": "stream",
     "text": [
      "6\n"
     ]
    }
   ],
   "source": [
    "#28\n",
    "xu = [1,4,3,12,22334,78,12,56]\n",
    "newevenno = [number for number in xu if number % 2 == 0]\n",
    "print(len(newevenno))\n",
    "\n"
   ]
  },
  {
   "cell_type": "code",
   "execution_count": 11,
   "id": "673401f2",
   "metadata": {},
   "outputs": [
    {
     "name": "stdout",
     "output_type": "stream",
     "text": [
      "what is your key one12\n",
      "what is your key two13\n",
      "what is your key three14\n",
      "{12: 144, 13: 169, 14: 196}\n"
     ]
    }
   ],
   "source": [
    "#29\n",
    "import math\n",
    "KEY1 = int(input(\"what is your key one\"))\n",
    "key2 = int(input(\"what is your key two\"))\n",
    "key3 = int(input(\"what is your key three\"))\n",
    "value1 = KEY1*KEY1\n",
    "value2 = key2*key2\n",
    "value3 = key3*key3\n",
    "newdict = {\n",
    "    KEY1 : value1,\n",
    "    key2 : value2,\n",
    "    key3 : value3,\n",
    "}\n",
    "\n",
    "print(newdict)"
   ]
  },
  {
   "cell_type": "code",
   "execution_count": null,
   "id": "5651f2fb",
   "metadata": {},
   "outputs": [],
   "source": []
  },
  {
   "cell_type": "code",
   "execution_count": 17,
   "id": "15cbcf82",
   "metadata": {},
   "outputs": [
    {
     "name": "stdout",
     "output_type": "stream",
     "text": [
      "temilade\n",
      "elisha\n",
      "teebenz\n",
      "ayomide\n"
     ]
    }
   ],
   "source": [
    "#30\n",
    "mytuple = (\"temilade\",\"elisha\",\"teebenz\",\"ayomide\")\n",
    "(firstname,secondname,thirdname,middlename) = mytuple\n",
    "\n",
    "print(firstname)\n",
    "print(secondname)\n",
    "print(thirdname)\n",
    "print(middlename)\n"
   ]
  },
  {
   "cell_type": "code",
   "execution_count": 22,
   "id": "3eef070c",
   "metadata": {},
   "outputs": [
    {
     "name": "stdout",
     "output_type": "stream",
     "text": [
      "('temilade ', 'ayomi', 'jide', 'jones', 'elisha', 'iseoluw')\n"
     ]
    }
   ],
   "source": [
    "#31\n",
    "thetupleiwannaadd = ( \"temilade \",\"ayomi\",\"jide\",\"jones\")\n",
    "newthetupleiwannaadd = (\"elisha\",\"iseoluw\") \n",
    "addedtuple = thetupleiwannaadd + newthetupleiwannaadd\n",
    "print(addedtuple)"
   ]
  },
  {
   "cell_type": "code",
   "execution_count": 93,
   "id": "61eeb3b0",
   "metadata": {},
   "outputs": [
    {
     "name": "stdout",
     "output_type": "stream",
     "text": [
      "('teebenz',)\n"
     ]
    }
   ],
   "source": [
    "#32\n",
    "mytuple = (\"temilade\",\"elisha\",\"teebenz\",\"ayomide\")\n",
    "print(mytuple[-2:-1])\n",
    "#a tuple is unchangeable ie it cannot be remove"
   ]
  },
  {
   "cell_type": "code",
   "execution_count": 23,
   "id": "c584d814",
   "metadata": {},
   "outputs": [
    {
     "name": "stdout",
     "output_type": "stream",
     "text": [
      "('banana', 'cherry')\n"
     ]
    }
   ],
   "source": [
    "#33\n",
    "slicedtuple = (\"apple\", \"banana\", \"cherry\")\n",
    "slice1 = slicedtuple[1:]\n",
    "print(slice1)"
   ]
  },
  {
   "cell_type": "code",
   "execution_count": 24,
   "id": "9c6905f9",
   "metadata": {},
   "outputs": [
    {
     "name": "stdout",
     "output_type": "stream",
     "text": [
      "['apple', 'banana', 'cherry']\n",
      "['apple', 'banana', 'cherry']\n",
      "['apple', 'banana', 'cherry']\n"
     ]
    }
   ],
   "source": [
    "#check34\n",
    "\n",
    "unziptuple = (\"apple\", \"banana\", \"cherry\")\n",
    "for x in unziptuple:\n",
    "    print(list(unziptuple))"
   ]
  },
  {
   "cell_type": "code",
   "execution_count": 28,
   "id": "29ad3a61",
   "metadata": {},
   "outputs": [
    {
     "name": "stdout",
     "output_type": "stream",
     "text": [
      "Average of the list = 5.7\n"
     ]
    }
   ],
   "source": [
    "#35\n",
    "avetuple = (4,5,6,4,7,8,3,8,8,4)\n",
    "def Average(avetuple):\n",
    "    return sum(avetuple) / len(avetuple)\n",
    "\n",
    "avetuple = (4,5,6,4,7,8,3,8,8,4)\n",
    "average = Average(avetuple)\n",
    "\n",
    "\n",
    "print(\"Average of the list =\", round(average, 2))"
   ]
  },
  {
   "cell_type": "code",
   "execution_count": null,
   "id": "c08cd5ac",
   "metadata": {},
   "outputs": [],
   "source": []
  },
  {
   "cell_type": "code",
   "execution_count": 35,
   "id": "a4cc774a",
   "metadata": {},
   "outputs": [
    {
     "name": "stdout",
     "output_type": "stream",
     "text": [
      "tell me your word: try\n",
      "yrt\n"
     ]
    }
   ],
   "source": [
    "#37\n",
    "theword = input(\"tell me your word: \")\n",
    "revesrsed_word = theword[::-1]\n",
    "print(\"The rversed form of your word is : \",revesrsed_word)"
   ]
  },
  {
   "cell_type": "code",
   "execution_count": null,
   "id": "b1bd7c14",
   "metadata": {},
   "outputs": [],
   "source": []
  },
  {
   "cell_type": "code",
   "execution_count": 34,
   "id": "cbd72a0c",
   "metadata": {},
   "outputs": [
    {
     "name": "stdout",
     "output_type": "stream",
     "text": [
      "7\n",
      "3\n"
     ]
    }
   ],
   "source": [
    "#check39\n",
    "newsetnumber = [4,5,6,3,7]\n",
    "print(max(newsetnumber))\n",
    "print(min(newsetnumber))"
   ]
  },
  {
   "cell_type": "code",
   "execution_count": 11,
   "id": "fd0bbacb",
   "metadata": {},
   "outputs": [
    {
     "name": "stdout",
     "output_type": "stream",
     "text": [
      "what is your string  :  sderrer\n",
      "SDERRER\n",
      "sderrer\n"
     ]
    }
   ],
   "source": [
    "#40\n",
    "thestring = input(\"what is your string  :  \")\n",
    "uppercase = thestring.upper()\n",
    "print(uppercase)\n",
    "lowercase = thestring.lower()\n",
    "print(lowercase)"
   ]
  },
  {
   "cell_type": "code",
   "execution_count": 37,
   "id": "ed4a73a3",
   "metadata": {},
   "outputs": [
    {
     "name": "stdout",
     "output_type": "stream",
     "text": [
      "what is the number you want us to check for 39\n",
      "39 is not\n"
     ]
    }
   ],
   "source": [
    "#41\n",
    "thenumber = int(input(\"what is the number you want us to check for \"))\n",
    "count=0\n",
    "for i in range (2,(thenumber//2+1)):\n",
    "    if(thenumber % i ==0):\n",
    "        count=count + 1\n",
    "        break\n",
    "        \n",
    "if (count==0 and thenumber !=1):\n",
    "    print( thenumber , \"is a prime\")\n",
    "else:\n",
    "    print(thenumber , \"is not\")"
   ]
  },
  {
   "cell_type": "code",
   "execution_count": 90,
   "id": "5a3d587c",
   "metadata": {},
   "outputs": [
    {
     "name": "stdout",
     "output_type": "stream",
     "text": [
      "2\n",
      "3\n",
      "4\n",
      "5\n"
     ]
    }
   ],
   "source": [
    "for i in range(2,6):\n",
    "    print(i)"
   ]
  },
  {
   "cell_type": "code",
   "execution_count": 19,
   "id": "253f5974",
   "metadata": {},
   "outputs": [
    {
     "name": "stdout",
     "output_type": "stream",
     "text": [
      "The Zen of Python, by Tim Peters\n",
      "\n",
      "Beautiful is better than ugly.\n",
      "Explicit is better than implicit.\n",
      "Simple is better than complex.\n",
      "Complex is better than complicated.\n",
      "Flat is better than nested.\n",
      "Sparse is better than dense.\n",
      "Readability counts.\n",
      "Special cases aren't special enough to break the rules.\n",
      "Although practicality beats purity.\n",
      "Errors should never pass silently.\n",
      "Unless explicitly silenced.\n",
      "In the face of ambiguity, refuse the temptation to guess.\n",
      "There should be one-- and preferably only one --obvious way to do it.\n",
      "Although that way may not be obvious at first unless you're Dutch.\n",
      "Now is better than never.\n",
      "Although never is often better than *right* now.\n",
      "If the implementation is hard to explain, it's a bad idea.\n",
      "If the implementation is easy to explain, it may be a good idea.\n",
      "Namespaces are one honking great idea -- let's do more of those!\n"
     ]
    }
   ],
   "source": [
    "import this\n",
    "\n"
   ]
  },
  {
   "cell_type": "code",
   "execution_count": 106,
   "id": "8e2c1df7",
   "metadata": {},
   "outputs": [
    {
     "name": "stdout",
     "output_type": "stream",
     "text": [
      "a string that you \"don't\" have to escape\n",
      "This \n",
      "is a......multi-line\n",
      "heredoc string ------> example\n"
     ]
    }
   ],
   "source": [
    "\n",
    "here_document = \"a string that you \\\"don't\\\" have to escape\\nThis \\nis a......multi-line\\nheredoc string ------> example\"\n",
    "print(here_document)"
   ]
  },
  {
   "cell_type": "code",
   "execution_count": 1,
   "id": "4e7c2de6",
   "metadata": {},
   "outputs": [
    {
     "data": {
      "text/plain": [
       "'Windows'"
      ]
     },
     "execution_count": 1,
     "metadata": {},
     "output_type": "execute_result"
    }
   ],
   "source": [
    "#19\n",
    "import platform\n",
    "platform.system()"
   ]
  },
  {
   "cell_type": "code",
   "execution_count": 10,
   "id": "ec477a0a",
   "metadata": {},
   "outputs": [
    {
     "name": "stdout",
     "output_type": "stream",
     "text": [
      "Enter your radius12\n",
      "602.8799999999999\n"
     ]
    }
   ],
   "source": [
    "\n",
    "#you_rad = float(input(\"Enter your radius\"))\n",
    "#volume = 4/3 *3.14*you_rad*you_rad\n",
    "#print(volume)"
   ]
  },
  {
   "cell_type": "code",
   "execution_count": 14,
   "id": "29106273",
   "metadata": {},
   "outputs": [
    {
     "name": "stdout",
     "output_type": "stream",
     "text": [
      "[2, 4, 6, 8, 10]\n",
      "[1, 3, 5, 7, 9]\n"
     ]
    }
   ],
   "source": [
    "#45\n",
    "original_list = [1, 2, 3, 4, 5, 6, 7, 8, 9, 10] \n",
    "even_NO = [number for number in original_list if number % 2 == 0]\n",
    "print(even_NO)\n",
    "odd_no = [temi for temi in original_list if temi % 2!=0]\n",
    "print(odd_no)"
   ]
  },
  {
   "cell_type": "code",
   "execution_count": 98,
   "id": "b1d9d34a",
   "metadata": {},
   "outputs": [
    {
     "name": "stdout",
     "output_type": "stream",
     "text": [
      "[1, 4, 9, 16, 25, 36, 49, 64, 81, 100]\n"
     ]
    },
    {
     "data": {
      "text/plain": [
       "[1, 8, 27, 64, 125, 216, 343, 512, 729, 1000]"
      ]
     },
     "execution_count": 98,
     "metadata": {},
     "output_type": "execute_result"
    }
   ],
   "source": [
    "#46\n",
    "normal_list = [1, 2, 3, 4, 5, 6, 7, 8, 9, 10]\n",
    "square_nums = list(map(lambda x: x ** 2, normal_list))\n",
    "print(square_nums)\n",
    "cube_nums = list(map(lambda x: x ** 3, normal_list))\n",
    "(cube_nums)"
   ]
  },
  {
   "cell_type": "code",
   "execution_count": 25,
   "id": "5708cb9b",
   "metadata": {},
   "outputs": [
    {
     "name": "stdout",
     "output_type": "stream",
     "text": [
      "2022-08-28 13:26:53.178066\n",
      "2022\n",
      "8\n",
      "28\n",
      "<built-in method time of datetime.datetime object at 0x000001387E9D3180>\n"
     ]
    }
   ],
   "source": [
    "#47\n",
    "import datetime\n",
    "now = datetime.datetime.now()\n",
    "print(now)\n",
    "year = lambda x: x.year\n",
    "month = lambda x: x.month\n",
    "day = lambda x: x.day\n",
    "time = lambda x: x.time\n",
    "print(year(now))\n",
    "print(month(now))\n",
    "print(day(now))\n",
    "print(time(now))"
   ]
  },
  {
   "cell_type": "code",
   "execution_count": 39,
   "id": "63967076",
   "metadata": {},
   "outputs": [
    {
     "name": "stdout",
     "output_type": "stream",
     "text": [
      "what is your argument value  :  12\n"
     ]
    },
    {
     "data": {
      "text/plain": [
       "86"
      ]
     },
     "execution_count": 39,
     "metadata": {},
     "output_type": "execute_result"
    }
   ],
   "source": [
    "#44\n",
    "import random\n",
    "t = input('what is your argument value  :  ')\n",
    "x = random.randrange(1,300)\n",
    "def my_new_function(t):\n",
    "    return x*t\n",
    "my_new_function(1)\n",
    "\n",
    "\n",
    "\n"
   ]
  },
  {
   "cell_type": "code",
   "execution_count": 45,
   "id": "2c04cacb",
   "metadata": {},
   "outputs": [
    {
     "name": "stdout",
     "output_type": "stream",
     "text": [
      "Enter any number: 9\n",
      "The number is not a Perfect number          \n"
     ]
    }
   ],
   "source": [
    "#41\n",
    "n = int(input(\"Enter any number: \"))\n",
    "sum1 = 0\n",
    "for i in range(1, n):\n",
    "    if(n % i == 0):\n",
    "        sum1 = sum1 + i\n",
    "if (sum1 == n):\n",
    "    print(\"The number is a Perfect number\")\n",
    "else:\n",
    "    print(\"The number is not a Perfect number \")"
   ]
  },
  {
   "cell_type": "code",
   "execution_count": 53,
   "id": "90092b05",
   "metadata": {},
   "outputs": [
    {
     "name": "stdout",
     "output_type": "stream",
     "text": [
      "0\n",
      "1\n",
      "2\n",
      "3\n",
      "4\n",
      "5\n",
      "6\n",
      "7\n",
      "8\n",
      "9\n",
      "10\n",
      "11\n",
      "12\n",
      "13\n",
      "14\n",
      "15\n",
      "16\n",
      "17\n",
      "18\n",
      "19\n",
      "20\n",
      "21\n",
      "22\n",
      "23\n",
      "24\n",
      "25\n",
      "26\n",
      "27\n",
      "28\n",
      "29\n",
      "30\n",
      "31\n",
      "32\n",
      "33\n",
      "34\n",
      "35\n",
      "36\n",
      "37\n",
      "38\n",
      "39\n",
      "40\n",
      "41\n",
      "42\n",
      "43\n",
      "44\n",
      "45\n",
      "46\n",
      "47\n",
      "48\n",
      "49\n",
      "50\n",
      "51\n",
      "52\n",
      "53\n",
      "54\n",
      "55\n",
      "56\n",
      "57\n",
      "58\n",
      "59\n",
      "60\n",
      "61\n",
      "62\n",
      "63\n",
      "64\n",
      "65\n",
      "66\n",
      "67\n",
      "68\n",
      "69\n",
      "70\n",
      "71\n",
      "72\n",
      "73\n",
      "74\n",
      "75\n",
      "76\n",
      "77\n",
      "78\n",
      "79\n",
      "80\n",
      "81\n",
      "82\n",
      "83\n",
      "84\n",
      "85\n",
      "86\n",
      "87\n",
      "88\n",
      "89\n"
     ]
    }
   ],
   "source": [
    "\n",
    "t = range(90)\n",
    "count = 1\n",
    "for i in t:\n",
    "    print(i)"
   ]
  },
  {
   "cell_type": "code",
   "execution_count": null,
   "id": "a45497b5",
   "metadata": {},
   "outputs": [],
   "source": []
  },
  {
   "cell_type": "code",
   "execution_count": null,
   "id": "900cc0ee",
   "metadata": {},
   "outputs": [],
   "source": []
  }
 ],
 "metadata": {
  "kernelspec": {
   "display_name": "Python 3 (ipykernel)",
   "language": "python",
   "name": "python3"
  },
  "language_info": {
   "codemirror_mode": {
    "name": "ipython",
    "version": 3
   },
   "file_extension": ".py",
   "mimetype": "text/x-python",
   "name": "python",
   "nbconvert_exporter": "python",
   "pygments_lexer": "ipython3",
   "version": "3.9.7"
  }
 },
 "nbformat": 4,
 "nbformat_minor": 5
}
