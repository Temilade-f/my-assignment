{
 "cells": [
  {
   "cell_type": "code",
   "execution_count": 12,
   "id": "1afadb6e",
   "metadata": {},
   "outputs": [],
   "source": [
    "import numpy as np\n",
    "arr = [(8,8),(12)]\n"
   ]
  },
  {
   "cell_type": "code",
   "execution_count": 6,
   "id": "e94f81ed",
   "metadata": {},
   "outputs": [
    {
     "name": "stdout",
     "output_type": "stream",
     "text": [
      "[1 2 3 4 5 6 7 8]\n"
     ]
    }
   ],
   "source": [
    "c = np.array([1,2,3,4,5,6,7,8])\n",
    "print(c)"
   ]
  },
  {
   "cell_type": "code",
   "execution_count": 8,
   "id": "000f0c5a",
   "metadata": {},
   "outputs": [
    {
     "data": {
      "text/plain": [
       "array([[1, 2],\n",
       "       [3, 4],\n",
       "       [5, 6],\n",
       "       [7, 8]])"
      ]
     },
     "execution_count": 8,
     "metadata": {},
     "output_type": "execute_result"
    }
   ],
   "source": [
    "#1\n",
    "newc = c.reshape(4,2)\n",
    "newc"
   ]
  },
  {
   "cell_type": "code",
   "execution_count": null,
   "id": "bcf8cfd0",
   "metadata": {},
   "outputs": [],
   "source": []
  },
  {
   "cell_type": "code",
   "execution_count": 18,
   "id": "1514b0c1",
   "metadata": {},
   "outputs": [
    {
     "data": {
      "text/plain": [
       "array([[100, 110],\n",
       "       [120, 130],\n",
       "       [140, 150],\n",
       "       [160, 170],\n",
       "       [180, 190]])"
      ]
     },
     "execution_count": 18,
     "metadata": {},
     "output_type": "execute_result"
    }
   ],
   "source": [
    "#2\n",
    "dp = range(100,200,10)\n",
    "newdp = np.array([dp])\n",
    "converted_dp = newdp.reshape(5,2)\n",
    "converted_dp"
   ]
  },
  {
   "cell_type": "code",
   "execution_count": 33,
   "id": "324aec74",
   "metadata": {},
   "outputs": [
    {
     "name": "stdout",
     "output_type": "stream",
     "text": [
      "4\n",
      "4\n",
      "20\n",
      "4\n",
      "5\n"
     ]
    }
   ],
   "source": [
    "#3\n",
    "new = np.array([[ 1,  3,  4,  5], [ 2,  3,  4,  6], [ 2, 10, 20,  2], [ 2,  3,  4,  5], [ 2,  3,  5,  6]])\n",
    "for i in new:\n",
    "    print(i[2])\n"
   ]
  },
  {
   "cell_type": "code",
   "execution_count": 75,
   "id": "db95a74e",
   "metadata": {},
   "outputs": [
    {
     "name": "stdout",
     "output_type": "stream",
     "text": [
      "(array([ 2,  4,  6,  7,  8,  9, 10, 11, 12, 14, 16, 19], dtype=int64),)\n"
     ]
    },
    {
     "data": {
      "text/plain": [
       "array([ 1,  3,  4,  5,  2,  3,  4,  6,  2, 10, 20,  2,  2,  3,  4,  5,  2,\n",
       "        3,  5,  6])"
      ]
     },
     "execution_count": 75,
     "metadata": {},
     "output_type": "execute_result"
    }
   ],
   "source": [
    "#4\n",
    "new = np.array([[ 1,  3,  4,  5], [ 2,  3,  4,  6], [ 2, 10, 20,  2], [ 2,  3,  4,  5], [ 2,  3,  5,  6]])\n",
    "checked = new.reshape(-1)\n",
    "even_new = np.where(checked  %2 == 0)\n",
    "print(even_new)\n",
    "checked   "
   ]
  },
  {
   "cell_type": "code",
   "execution_count": 73,
   "id": "96c77524",
   "metadata": {},
   "outputs": [
    {
     "name": "stdout",
     "output_type": "stream",
     "text": [
      "(array([ 2,  4,  6,  7,  8,  9, 10, 11, 12, 14, 16, 19], dtype=int64),)\n"
     ]
    }
   ],
   "source": [
    "new = np.array([[ 1,  3,  4,  5], [ 2,  3,  4,  6], [ 2, 10, 20,  2], [ 2,  3,  4,  5], [ 2,  3,  5,  6]])\n",
    "odd_new = np.where(checked2 % 2 != 1)\n",
    "checked2 = new.reshape(-1)\n",
    "print(odd_new)"
   ]
  },
  {
   "cell_type": "code",
   "execution_count": 79,
   "id": "7a6816a9",
   "metadata": {},
   "outputs": [
    {
     "name": "stdout",
     "output_type": "stream",
     "text": [
      "[1 2 3 4 5 6]\n",
      "1\n",
      "4\n",
      "9\n",
      "16\n",
      "25\n",
      "36\n"
     ]
    }
   ],
   "source": [
    "#5\n",
    "arr1 = np.array([1, 2, 3])\n",
    "\n",
    "arr2 = np.array([4, 5, 6])\n",
    "arr = np.concatenate((arr1, arr2))\n",
    "print(arr)\n",
    "for i in arr:\n",
    "    print(i**2)"
   ]
  },
  {
   "cell_type": "code",
   "execution_count": 82,
   "id": "ffd4c08c",
   "metadata": {},
   "outputs": [
    {
     "data": {
      "text/plain": [
       "[array([1, 2]), array([3, 4]), array([5]), array([6])]"
      ]
     },
     "execution_count": 82,
     "metadata": {},
     "output_type": "execute_result"
    }
   ],
   "source": [
    "#6\n",
    "newarr = np.array_split(arr, 4)\n",
    "newarr"
   ]
  },
  {
   "cell_type": "code",
   "execution_count": 63,
   "id": "a4313350",
   "metadata": {},
   "outputs": [
    {
     "name": "stdout",
     "output_type": "stream",
     "text": [
      "1\n",
      "2\n",
      "2\n",
      "[ 5  6 20]\n",
      "[ 5  6 20]\n"
     ]
    }
   ],
   "source": [
    "#7\n",
    "my_new_ = np.array([[1, 3 ,4 ,5], [2 ,3, 4 ,6], [2 ,10, 20, 2]])\n",
    "for i in my_new_:\n",
    "    minimum = np.amin(i, 0) \n",
    "    print(minimum)\n",
    "maximum = np.amax(my_new_,1)\n",
    "print(maximum)\n",
    "print(minimun)"
   ]
  },
  {
   "cell_type": "code",
   "execution_count": 66,
   "id": "cb39919b",
   "metadata": {},
   "outputs": [
    {
     "name": "stdout",
     "output_type": "stream",
     "text": [
      "Original array\n",
      "[[ 1  3  4  5]\n",
      " [ 2  3  4  6]\n",
      " [ 2 10 20  2]]\n",
      "Test a given array element-wise for finiteness :\n",
      "[[ True  True  True  True]\n",
      " [ True  True  True  True]\n",
      " [ True  True  True  True]]\n"
     ]
    }
   ],
   "source": [
    "#8\n",
    "import numpy as np\n",
    "a = np.array([1, 0, np.nan, np.inf])\n",
    "print(\"Original array\")\n",
    "print(my_new_)\n",
    "print(\"Test a given array element-wise for finiteness :\")\n",
    "print(np.isfinite(my_new_))\n"
   ]
  },
  {
   "cell_type": "code",
   "execution_count": 67,
   "id": "d2f4ebc6",
   "metadata": {},
   "outputs": [
    {
     "name": "stdout",
     "output_type": "stream",
     "text": [
      "[[False False False False]\n",
      " [False False False False]\n",
      " [False False False False]]\n"
     ]
    }
   ],
   "source": [
    "#9\n",
    "print(np.isnan(my_new_))"
   ]
  },
  {
   "cell_type": "code",
   "execution_count": 68,
   "id": "c2333a00",
   "metadata": {},
   "outputs": [
    {
     "name": "stdout",
     "output_type": "stream",
     "text": [
      "Original array\n",
      "[1. +1.j 1. +0.j 4.5+0.j 3. +0.j 2. +0.j 0. +2.j]\n",
      "Checking for complex number:\n",
      "[ True False False False False  True]\n",
      "Checking for real number:\n",
      "[False  True  True  True  True False]\n",
      "Checking for scalar type:\n",
      "True\n",
      "False\n"
     ]
    }
   ],
   "source": [
    "#10\n",
    "import numpy as np\n",
    "a = np.array([1+1j, 1+0j, 4.5, 3, 2, 2j])\n",
    "print(\"Original array\")\n",
    "print(a)\n",
    "print(\"Checking for complex number:\")\n",
    "print(np.iscomplex(a))\n",
    "print(\"Checking for real number:\")\n",
    "print(np.isreal(a))\n",
    "print(\"Checking for scalar type:\")\n",
    "print(np.isscalar(3.1))\n",
    "print(np.isscalar([3.1]))"
   ]
  },
  {
   "cell_type": "code",
   "execution_count": 69,
   "id": "2ef2be60",
   "metadata": {},
   "outputs": [
    {
     "name": "stdout",
     "output_type": "stream",
     "text": [
      "Test if two arrays are element-wise equal within a tolerance:\n",
      "False\n",
      "True\n",
      "False\n",
      "False\n",
      "True\n"
     ]
    }
   ],
   "source": [
    "#11\n",
    "import numpy as np\n",
    "print(\"Test if two arrays are element-wise equal within a tolerance:\")\n",
    "print(np.allclose([1e10,1e-7], [1.00001e10,1e-8]))\n",
    "print(np.allclose([1e10,1e-8], [1.00001e10,1e-9]))\n",
    "print(np.allclose([1e10,1e-8], [1.0001e10,1e-9]))\n",
    "print(np.allclose([1.0, np.nan], [1.0, np.nan]))\n",
    "print(np.allclose([1.0, np.nan], [1.0, np.nan], equal_nan=True))"
   ]
  },
  {
   "cell_type": "code",
   "execution_count": 70,
   "id": "b6222727",
   "metadata": {},
   "outputs": [
    {
     "name": "stdout",
     "output_type": "stream",
     "text": [
      "Original numbers:\n",
      "[3 5]\n",
      "[2 5]\n",
      "Comparison - greater\n",
      "[ True False]\n",
      "Comparison - greater_equal\n",
      "[ True  True]\n",
      "Comparison - less\n",
      "[False False]\n",
      "Comparison - less_equal\n",
      "[False  True]\n"
     ]
    }
   ],
   "source": [
    "#12\n",
    "import numpy as np\n",
    "x = np.array([3, 5])\n",
    "y = np.array([2, 5])\n",
    "print(\"Original numbers:\")\n",
    "print(x)\n",
    "print(y)\n",
    "print(\"Comparison - greater\")\n",
    "print(np.greater(x, y))\n",
    "print(\"Comparison - greater_equal\")\n",
    "print(np.greater_equal(x, y))\n",
    "print(\"Comparison - less\")\n",
    "print(np.less(x, y))\n",
    "print(\"Comparison - less_equal\")\n",
    "print(np.less_equal(x, y))"
   ]
  },
  {
   "cell_type": "code",
   "execution_count": 71,
   "id": "35ce927f",
   "metadata": {},
   "outputs": [
    {
     "name": "stdout",
     "output_type": "stream",
     "text": [
      "An array of 10 zeros:\n",
      "[0. 0. 0. 0. 0. 0. 0. 0. 0. 0.]\n",
      "An array of 10 ones:\n",
      "[1. 1. 1. 1. 1. 1. 1. 1. 1. 1.]\n",
      "An array of 10 fives:\n",
      "[5. 5. 5. 5. 5. 5. 5. 5. 5. 5.]\n"
     ]
    }
   ],
   "source": [
    "#13\n",
    "import numpy as np\n",
    "array=np.zeros(10)\n",
    "print(\"An array of 10 zeros:\")\n",
    "print(array)\n",
    "array=np.ones(10)\n",
    "print(\"An array of 10 ones:\")\n",
    "print(array)\n",
    "array=np.ones(10)*5\n",
    "print(\"An array of 10 fives:\")\n",
    "print(array)"
   ]
  },
  {
   "cell_type": "code",
   "execution_count": 72,
   "id": "8742da20",
   "metadata": {},
   "outputs": [
    {
     "name": "stdout",
     "output_type": "stream",
     "text": [
      "3x3 matrix:\n",
      "[[1. 0. 0.]\n",
      " [0. 1. 0.]\n",
      " [0. 0. 1.]]\n"
     ]
    }
   ],
   "source": [
    "#14\n",
    "import numpy as np\n",
    "array_2D=np.identity(3)\n",
    "print('3x3 matrix:')\n",
    "print(array_2D)"
   ]
  },
  {
   "cell_type": "code",
   "execution_count": 73,
   "id": "297ebfdf",
   "metadata": {},
   "outputs": [
    {
     "name": "stdout",
     "output_type": "stream",
     "text": [
      "Vector of length 5 filled with arbitrary integers from 0 to 10:\n",
      "[0 6 6 2 8]\n"
     ]
    }
   ],
   "source": [
    "#15\n",
    "import numpy as np\n",
    "x = np.random.randint(0, 11, 5)\n",
    "print(\"Vector of length 5 filled with arbitrary integers from 0 to 10:\")\n",
    "print(x)"
   ]
  },
  {
   "cell_type": "code",
   "execution_count": 2,
   "id": "c9970440",
   "metadata": {},
   "outputs": [
    {
     "name": "stdout",
     "output_type": "stream",
     "text": [
      "[[10 11 12 13]\n",
      " [14 15 16 17]\n",
      " [18 19 20 21]]\n"
     ]
    }
   ],
   "source": [
    "#16\n",
    "import numpy as np\n",
    "m= np.arange(10,22).reshape((3, 4))\n",
    "print(m)"
   ]
  },
  {
   "cell_type": "code",
   "execution_count": 75,
   "id": "948580db",
   "metadata": {},
   "outputs": [
    {
     "name": "stdout",
     "output_type": "stream",
     "text": [
      "[[1 0 0 0 0]\n",
      " [0 2 0 0 0]\n",
      " [0 0 3 0 0]\n",
      " [0 0 0 4 0]\n",
      " [0 0 0 0 5]]\n"
     ]
    }
   ],
   "source": [
    "#17\n",
    "import numpy as np\n",
    "x = np.diag([1, 2, 3, 4, 5])\n",
    "print(x)"
   ]
  },
  {
   "cell_type": "code",
   "execution_count": 76,
   "id": "6957d88d",
   "metadata": {},
   "outputs": [
    {
     "name": "stdout",
     "output_type": "stream",
     "text": [
      "Original arrays:\n",
      "[0.5 1.5 0.2]\n",
      "[0.4999999999 1.5          0.2         ]\n",
      "\n",
      "Test said two arrays are equal (element wise) or not:?\n",
      "[False  True  True]\n",
      "\n",
      "Original arrays:\n",
      "[0.5  1.5  0.23]\n",
      "[0.4999999999 1.5000000001 0.23        ]\n",
      "\n",
      "Test said two arrays are equal (element wise) or not:?\n",
      "[False False  True]\n"
     ]
    }
   ],
   "source": [
    "#18\n",
    "import numpy as np\n",
    "nums1 = np.array([0.5, 1.5, 0.2])\n",
    "nums2 = np.array([0.4999999999, 1.500000000, 0.2])\n",
    "np.set_printoptions(precision=15)\n",
    "print(\"Original arrays:\")\n",
    "print(nums1)\n",
    "print(nums2)\n",
    "print(\"\\nTest said two arrays are equal (element wise) or not:?\")\n",
    "print(nums1 == nums2)\n",
    "nums1 = np.array([0.5, 1.5, 0.23])\n",
    "nums2 = np.array([0.4999999999, 1.5000000001, 0.23])\n",
    "print(\"\\nOriginal arrays:\")\n",
    "np.set_printoptions(precision=15)\n",
    "print(nums1)\n",
    "print(nums2)\n",
    "print(\"\\nTest said two arrays are equal (element wise) or not:?\")\n",
    "print(np.equal(nums1, nums2))\n"
   ]
  },
  {
   "cell_type": "code",
   "execution_count": 77,
   "id": "add0a04a",
   "metadata": {},
   "outputs": [
    {
     "name": "stdout",
     "output_type": "stream",
     "text": [
      "[[201.69082669736346 200.3746763082702  200.68394275021677\n",
      "  195.51750123129818]\n",
      " [197.92478991563303 201.07066048488275 201.79714021459858\n",
      "  198.12823310277952]\n",
      " [200.96238963339914 200.77744291067876 200.61875865227867\n",
      "  199.05613893807728]\n",
      " [198.48492638364303 198.38860811141893 197.55239946005003\n",
      "  200.47003620983824]\n",
      " [199.9154583876559  202.99877319355295 202.01069856971475\n",
      "  200.77735483308504]\n",
      " [199.67739161408255 193.89831807071494 202.14273592752286\n",
      "  202.54951299405823]\n",
      " [199.53450968631876 199.75126019761723 199.791457270905\n",
      "  202.97687756587686]\n",
      " [200.24634412660365 196.0460693352411  198.3061125324022\n",
      "  197.88701546225133]\n",
      " [201.7845091237894  203.94032834458278 198.21152802602944\n",
      "  196.9144607143198 ]\n",
      " [201.0082480992413  197.03285103581035 200.6305276348363\n",
      "  197.82590294139914]]\n"
     ]
    }
   ],
   "source": [
    "#19\n",
    "import numpy as np \n",
    "np.random.seed(20) \n",
    "cbrt = np.cbrt(7)\n",
    "nd1 = 200 \n",
    "print(cbrt * np.random.randn(10, 4) + nd1) "
   ]
  },
  {
   "cell_type": "code",
   "execution_count": 78,
   "id": "c07d2296",
   "metadata": {},
   "outputs": [
    {
     "name": "stdout",
     "output_type": "stream",
     "text": [
      "Array:\n",
      "[[[1 5 2 1]\n",
      "  [4 3 5 6]\n",
      "  [6 3 0 6]\n",
      "  [7 3 5 0]\n",
      "  [2 3 3 5]]\n",
      "\n",
      " [[2 2 3 1]\n",
      "  [4 0 0 5]\n",
      "  [6 3 2 1]\n",
      "  [5 1 0 0]\n",
      "  [0 1 9 1]]\n",
      "\n",
      " [[3 1 4 2]\n",
      "  [4 1 6 0]\n",
      "  [1 2 0 6]\n",
      "  [8 3 4 0]\n",
      "  [2 0 2 8]]]\n"
     ]
    }
   ],
   "source": [
    "#20\n",
    "import numpy as np  \n",
    "nums = np.array([[[1, 5, 2, 1],\n",
    "               [4, 3, 5, 6],\n",
    "               [6, 3, 0, 6],\n",
    "               [7, 3, 5, 0],\n",
    "               [2, 3, 3, 5]],\n",
    "              \n",
    "              [[2, 2, 3, 1],\n",
    "               [4, 0, 0, 5],\n",
    "               [6, 3, 2, 1],\n",
    "               [5, 1, 0, 0],               \n",
    "               [0, 1, 9, 1]],\n",
    "              \n",
    "              [[3, 1, 4, 2],\n",
    "               [4, 1, 6, 0],\n",
    "               [1, 2, 0, 6],\n",
    "               [8, 3, 4, 0],               \n",
    "               [2, 0, 2, 8]]]) \n",
    "print(\"Array:\")\n",
    "print(nums)"
   ]
  },
  {
   "cell_type": "code",
   "execution_count": null,
   "id": "43736169",
   "metadata": {},
   "outputs": [],
   "source": []
  }
 ],
 "metadata": {
  "kernelspec": {
   "display_name": "Python 3 (ipykernel)",
   "language": "python",
   "name": "python3"
  },
  "language_info": {
   "codemirror_mode": {
    "name": "ipython",
    "version": 3
   },
   "file_extension": ".py",
   "mimetype": "text/x-python",
   "name": "python",
   "nbconvert_exporter": "python",
   "pygments_lexer": "ipython3",
   "version": "3.9.7"
  }
 },
 "nbformat": 4,
 "nbformat_minor": 5
}
